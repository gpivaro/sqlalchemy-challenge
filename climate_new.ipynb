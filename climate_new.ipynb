{
  "nbformat": 4,
  "nbformat_minor": 0,
  "metadata": {
    "kernel_info": {
      "name": "python3"
    },
    "kernelspec": {
      "display_name": "Python 3",
      "language": "python",
      "name": "python3"
    },
    "language_info": {
      "codemirror_mode": {
        "name": "ipython",
        "version": 3
      },
      "file_extension": ".py",
      "mimetype": "text/x-python",
      "name": "python",
      "nbconvert_exporter": "python",
      "pygments_lexer": "ipython3",
      "version": "3.7.6"
    },
    "nteract": {
      "version": "0.12.3"
    },
    "varInspector": {
      "cols": {
        "lenName": 16,
        "lenType": 16,
        "lenVar": 40
      },
      "kernels_config": {
        "python": {
          "delete_cmd_postfix": "",
          "delete_cmd_prefix": "del ",
          "library": "var_list.py",
          "varRefreshCmd": "print(var_dic_list())"
        },
        "r": {
          "delete_cmd_postfix": ") ",
          "delete_cmd_prefix": "rm(",
          "library": "var_list.r",
          "varRefreshCmd": "cat(var_dic_list()) "
        }
      },
      "types_to_exclude": [
        "module",
        "function",
        "builtin_function_or_method",
        "instance",
        "_Feature"
      ],
      "window_display": false
    },
    "colab": {
      "name": "climate.ipynb",
      "provenance": []
    }
  },
  "cells": [
    {
      "cell_type": "markdown",
      "metadata": {
        "id": "A9UiDD9dtd59"
      },
      "source": [
        "# SQLAlchemy Homework - Surfs Up!"
      ]
    },
    {
      "cell_type": "markdown",
      "metadata": {
        "id": "nO7LroXitd6B"
      },
      "source": [
        "## Import Dependencies"
      ]
    },
    {
      "cell_type": "code",
      "metadata": {
        "id": "ofoXurTNtd6F"
      },
      "source": [
        "%matplotlib inline"
      ],
      "execution_count": 1,
      "outputs": []
    },
    {
      "cell_type": "code",
      "metadata": {
        "id": "ex20OP0Ntd6O"
      },
      "source": [
        "from matplotlib import style\n",
        "style.use('fivethirtyeight')\n",
        "import matplotlib.pyplot as plt\n",
        "\n",
        "import numpy as np\n",
        "import pandas as pd\n",
        "\n",
        "import datetime as dt"
      ],
      "execution_count": 2,
      "outputs": []
    },
    {
      "cell_type": "code",
      "metadata": {
        "id": "yHxMroJ-wm5V"
      },
      "source": [
        "start_date = '2012-03-01'\n",
        "end_date =  '2012-03-14'"
      ],
      "execution_count": 3,
      "outputs": []
    },
    {
      "cell_type": "markdown",
      "metadata": {
        "id": "bKfb4MVctd6X"
      },
      "source": [
        "# Reflect Tables into SQLAlchemy ORM"
      ]
    },
    {
      "cell_type": "code",
      "metadata": {
        "id": "zRGYpDkGtd6Z"
      },
      "source": [
        "# Python SQL toolkit and Object Relational Mapper\n",
        "import sqlalchemy\n",
        "from sqlalchemy.ext.automap import automap_base\n",
        "from sqlalchemy.orm import Session\n",
        "from sqlalchemy import create_engine, func"
      ],
      "execution_count": 4,
      "outputs": []
    },
    {
      "cell_type": "code",
      "metadata": {
        "id": "UY7enO0Ytd6g"
      },
      "source": [
        "engine = create_engine(\"sqlite:////content/hawaii.sqlite\")"
      ],
      "execution_count": 5,
      "outputs": []
    },
    {
      "cell_type": "code",
      "metadata": {
        "id": "-WdRxaAstd6q"
      },
      "source": [
        "# reflect an existing database into a new model\n",
        "Base = automap_base()\n",
        "\n",
        "# reflect the tables\n",
        "Base.prepare(engine, reflect=True)"
      ],
      "execution_count": 6,
      "outputs": []
    },
    {
      "cell_type": "code",
      "metadata": {
        "id": "T3BQuZQ3td6y",
        "outputId": "71c6275a-0a99-421e-d479-379f3d06683e",
        "colab": {
          "base_uri": "https://localhost:8080/",
          "height": 35
        }
      },
      "source": [
        "# We can view all of the classes that automap found\n",
        "Base.classes.keys()"
      ],
      "execution_count": 7,
      "outputs": [
        {
          "output_type": "execute_result",
          "data": {
            "text/plain": [
              "['measurement', 'station']"
            ]
          },
          "metadata": {
            "tags": []
          },
          "execution_count": 7
        }
      ]
    },
    {
      "cell_type": "code",
      "metadata": {
        "id": "_xxiZc3Mtd7I"
      },
      "source": [
        "# Save references to each table\n",
        "Measurement = Base.classes.measurement\n",
        "Station = Base.classes.station"
      ],
      "execution_count": 8,
      "outputs": []
    },
    {
      "cell_type": "code",
      "metadata": {
        "id": "MuS-D08Gtd7P",
        "outputId": "e0a782cc-bf16-42f4-821f-72cadac8c230",
        "colab": {
          "base_uri": "https://localhost:8080/",
          "height": 105
        }
      },
      "source": [
        "# View the columns associated with the table\n",
        "Measurement.__table__.columns.values()"
      ],
      "execution_count": 9,
      "outputs": [
        {
          "output_type": "execute_result",
          "data": {
            "text/plain": [
              "[Column('id', INTEGER(), table=<measurement>, primary_key=True, nullable=False),\n",
              " Column('station', TEXT(), table=<measurement>),\n",
              " Column('date', TEXT(), table=<measurement>),\n",
              " Column('prcp', FLOAT(), table=<measurement>),\n",
              " Column('tobs', FLOAT(), table=<measurement>)]"
            ]
          },
          "metadata": {
            "tags": []
          },
          "execution_count": 9
        }
      ]
    },
    {
      "cell_type": "code",
      "metadata": {
        "id": "kibkY11wtd7Z",
        "outputId": "77f05484-489a-42d2-db93-8c8f54413ee0",
        "colab": {
          "base_uri": "https://localhost:8080/",
          "height": 35
        }
      },
      "source": [
        "# If you just want a list of the column headers, run:\n",
        "Measurement.__table__.columns.keys()"
      ],
      "execution_count": 10,
      "outputs": [
        {
          "output_type": "execute_result",
          "data": {
            "text/plain": [
              "['id', 'station', 'date', 'prcp', 'tobs']"
            ]
          },
          "metadata": {
            "tags": []
          },
          "execution_count": 10
        }
      ]
    },
    {
      "cell_type": "code",
      "metadata": {
        "id": "Vpf_bKpctd7h",
        "outputId": "c8565e6c-d553-4e05-e97c-2ebe3415883d",
        "colab": {
          "base_uri": "https://localhost:8080/",
          "height": 35
        }
      },
      "source": [
        "# If you just want a list of the column headers, run:\n",
        "Station.__table__.columns.keys()"
      ],
      "execution_count": 11,
      "outputs": [
        {
          "output_type": "execute_result",
          "data": {
            "text/plain": [
              "['id', 'station', 'name', 'latitude', 'longitude', 'elevation']"
            ]
          },
          "metadata": {
            "tags": []
          },
          "execution_count": 11
        }
      ]
    },
    {
      "cell_type": "code",
      "metadata": {
        "id": "3x6Qj4ketd7r"
      },
      "source": [
        "# Create our session (link) from Python to the DB\n",
        "session = Session(engine)"
      ],
      "execution_count": 12,
      "outputs": []
    },
    {
      "cell_type": "markdown",
      "metadata": {
        "id": "Guzb336Qtd7z"
      },
      "source": [
        "# Exploratory Climate Analysis"
      ]
    },
    {
      "cell_type": "markdown",
      "metadata": {
        "id": "SGg1R1Avtd70"
      },
      "source": [
        "### Precipitation Analysis"
      ]
    },
    {
      "cell_type": "code",
      "metadata": {
        "id": "SPCPKFzStd71"
      },
      "source": [
        "# Retrieve the most recent meas data\n",
        "date_last_meas_str = session.query(func.max(Measurement.date))\n",
        "\n",
        "# Convert the data from string to datetime\n",
        "date_last_meas_object = dt.datetime.strptime(date_last_meas_str.first()[0], '%Y-%m-%d').date()\n",
        "\n",
        "# Create a query data interval\n",
        "query_date = date_last_meas_object - dt.timedelta(days=365)\n",
        "\n",
        "# Query the database based on the target date (last 365 days)\n",
        "precipitation_query= session.query(Measurement.date,\n",
        "                                   Measurement.prcp).filter(Measurement.date > query_date).all()"
      ],
      "execution_count": 13,
      "outputs": []
    },
    {
      "cell_type": "code",
      "metadata": {
        "id": "BRWUTU2itd79"
      },
      "source": [
        "# Load the query results into a Pandas DataFrame and set the index to the date column.\n",
        "precipitation_12_months = pd.DataFrame(precipitation_query).set_index('date', drop=True)\n",
        "\n",
        "# Sort the DataFrame values by date\n",
        "precipitation_12_months.sort_values('date',inplace=True)"
      ],
      "execution_count": 14,
      "outputs": []
    },
    {
      "cell_type": "code",
      "metadata": {
        "id": "IS0VtRoVtd8E"
      },
      "source": [
        "# Drop the NAN values\n",
        "precipitation_12_months_cleaned = precipitation_12_months.loc[precipitation_12_months['prcp'].isnull()==False]"
      ],
      "execution_count": 15,
      "outputs": []
    },
    {
      "cell_type": "code",
      "metadata": {
        "id": "PT9-Svd7td8L",
        "outputId": "5b209b5c-b8fe-415a-b761-5dc72ac8e44d",
        "colab": {
          "base_uri": "https://localhost:8080/",
          "height": 451
        }
      },
      "source": [
        "# Plot the results using the DataFrame plot method\n",
        "plt.figure()\n",
        "ax = precipitation_12_months_cleaned.plot(figsize=(12,6),rot=90)\n",
        "ax.set_ylabel('Inches')\n",
        "ax.set_xlabel('Date')\n",
        "ax.legend([\"precipitation\"]);\n",
        "plt.tight_layout()\n",
        "plt.savefig('precipitation.png')"
      ],
      "execution_count": 16,
      "outputs": [
        {
          "output_type": "display_data",
          "data": {
            "text/plain": [
              "<Figure size 432x288 with 0 Axes>"
            ]
          },
          "metadata": {
            "tags": []
          }
        },
        {
          "output_type": "display_data",
          "data": {
            "image/png": "[encoded data removed]",
            "text/plain": [
              "<Figure size 864x432 with 1 Axes>"
            ]
          },
          "metadata": {
            "tags": []
          }
        }
      ]
    },
    {
      "cell_type": "code",
      "metadata": {
        "id": "5TByyH_Utd8R",
        "outputId": "f846acee-3d5c-4c9a-91c5-41d4db7ce012",
        "colab": {
          "base_uri": "https://localhost:8080/",
          "height": 301
        }
      },
      "source": [
        "# Use Pandas to calcualte the summary statistics for the precipitation data\n",
        "precipitation_12_months_cleaned.describe()"
      ],
      "execution_count": 17,
      "outputs": [
        {
          "output_type": "execute_result",
          "data": {
            "text/html": [
              "<div>\n",
              "<style scoped>\n",
              "    .dataframe tbody tr th:only-of-type {\n",
              "        vertical-align: middle;\n",
              "    }\n",
              "\n",
              "    .dataframe tbody tr th {\n",
              "        vertical-align: top;\n",
              "    }\n",
              "\n",
              "    .dataframe thead th {\n",
              "        text-align: right;\n",
              "    }\n",
              "</style>\n",
              "<table border=\"1\" class=\"dataframe\">\n",
              "  <thead>\n",
              "    <tr style=\"text-align: right;\">\n",
              "      <th></th>\n",
              "      <th>prcp</th>\n",
              "    </tr>\n",
              "  </thead>\n",
              "  <tbody>\n",
              "    <tr>\n",
              "      <th>count</th>\n",
              "      <td>2015.000000</td>\n",
              "    </tr>\n",
              "    <tr>\n",
              "      <th>mean</th>\n",
              "      <td>0.176462</td>\n",
              "    </tr>\n",
              "    <tr>\n",
              "      <th>std</th>\n",
              "      <td>0.460288</td>\n",
              "    </tr>\n",
              "    <tr>\n",
              "      <th>min</th>\n",
              "      <td>0.000000</td>\n",
              "    </tr>\n",
              "    <tr>\n",
              "      <th>25%</th>\n",
              "      <td>0.000000</td>\n",
              "    </tr>\n",
              "    <tr>\n",
              "      <th>50%</th>\n",
              "      <td>0.020000</td>\n",
              "    </tr>\n",
              "    <tr>\n",
              "      <th>75%</th>\n",
              "      <td>0.130000</td>\n",
              "    </tr>\n",
              "    <tr>\n",
              "      <th>max</th>\n",
              "      <td>6.700000</td>\n",
              "    </tr>\n",
              "  </tbody>\n",
              "</table>\n",
              "</div>"
            ],
            "text/plain": [
              "              prcp\n",
              "count  2015.000000\n",
              "mean      0.176462\n",
              "std       0.460288\n",
              "min       0.000000\n",
              "25%       0.000000\n",
              "50%       0.020000\n",
              "75%       0.130000\n",
              "max       6.700000"
            ]
          },
          "metadata": {
            "tags": []
          },
          "execution_count": 17
        }
      ]
    },
    {
      "cell_type": "markdown",
      "metadata": {
        "id": "PdhZQYRltd8X"
      },
      "source": [
        "### Station Analysis"
      ]
    },
    {
      "cell_type": "code",
      "metadata": {
        "id": "3BaZ8HeWtd8a",
        "outputId": "7c308fb3-70b3-4588-ee1e-4d93a8d44249",
        "colab": {
          "base_uri": "https://localhost:8080/",
          "height": 35
        }
      },
      "source": [
        "# Design a query to show how many stations are available in this dataset?\n",
        "available_stations = session.query(Station.id).count()\n",
        "print(f\"There are {available_stations} stations are available in this dataset.\")"
      ],
      "execution_count": 18,
      "outputs": [
        {
          "output_type": "stream",
          "text": [
            "There are 9 stations are available in this dataset.\n"
          ],
          "name": "stdout"
        }
      ]
    },
    {
      "cell_type": "code",
      "metadata": {
        "id": "5kfhNBHItd8g",
        "outputId": "aebd1ec0-5b8c-4402-b89a-12cd8a3571ce",
        "colab": {
          "base_uri": "https://localhost:8080/",
          "height": 175
        }
      },
      "source": [
        "# What are the most active stations? (i.e. what stations have the most rows)?\n",
        "# List the stations and the counts in descending order.\n",
        "most_active_stations = session.query(Station.station,func.count(Station.station)).filter(\n",
        "                                        Measurement.station == Station.station).group_by(\n",
        "                                        Station.station).order_by(\n",
        "                                        func.count(Station.station).desc()).all()\n",
        "\n",
        "most_active_stations"
      ],
      "execution_count": 19,
      "outputs": [
        {
          "output_type": "execute_result",
          "data": {
            "text/plain": [
              "[('USC00519281', 2772),\n",
              " ('USC00519397', 2724),\n",
              " ('USC00513117', 2709),\n",
              " ('USC00519523', 2669),\n",
              " ('USC00516128', 2612),\n",
              " ('USC00514830', 2202),\n",
              " ('USC00511918', 1979),\n",
              " ('USC00517948', 1372),\n",
              " ('USC00518838', 511)]"
            ]
          },
          "metadata": {
            "tags": []
          },
          "execution_count": 19
        }
      ]
    },
    {
      "cell_type": "code",
      "metadata": {
        "id": "JHw1fdsTtd8k",
        "outputId": "793387a9-0f06-4e9f-807c-b5a0fd693ac1",
        "colab": {
          "base_uri": "https://localhost:8080/",
          "height": 70
        }
      },
      "source": [
        "# Using the station id from the previous query, calculate the lowest temperature recorded, \n",
        "# highest temperature recorded, and average temperature of the most active station?\n",
        "most_active_station_id  = most_active_stations[0][0]\n",
        "\n",
        "# lowest temperature recorded\n",
        "lowest_temperature = session.query(Measurement.tobs).filter(\n",
        "                                Measurement.station == most_active_station_id).order_by(\n",
        "                                Measurement.tobs.asc()).first()\n",
        "print(f\"The lowest temperature recorded at station {most_active_station_id} is {lowest_temperature[0]} F.\")\n",
        "\n",
        "# highest temperature recorded\n",
        "highest_temperature = session.query(Measurement.tobs).filter(\n",
        "                                Measurement.station == most_active_station_id).order_by(\n",
        "                                Measurement.tobs.desc()).first()\n",
        "print(f\"The highest temperature recorded at station {most_active_station_id} is {highest_temperature[0]} F.\")\n",
        "\n",
        "# average temperature\n",
        "average_temperature = session.query(func.avg(Measurement.tobs)).filter(\n",
        "                                Measurement.station == most_active_station_id).first()\n",
        "print(f\"The average temperature recorded at station {most_active_station_id} is {round(average_temperature[0],2)} F.\")"
      ],
      "execution_count": 20,
      "outputs": [
        {
          "output_type": "stream",
          "text": [
            "The lowest temperature recorded at station USC00519281 is 54.0 F.\n",
            "The highest temperature recorded at station USC00519281 is 85.0 F.\n",
            "The average temperature recorded at station USC00519281 is 71.66 F.\n"
          ],
          "name": "stdout"
        }
      ]
    },
    {
      "cell_type": "code",
      "metadata": {
        "id": "hRi9B098td8r",
        "outputId": "f13430ee-3c64-4975-f1fd-22f76feeab1b",
        "colab": {
          "base_uri": "https://localhost:8080/",
          "height": 301
        }
      },
      "source": [
        "# Query the last 12 months of temperature observation data for this station \n",
        "tobs_12_months = session.query(Measurement.date, Measurement.tobs).filter(\n",
        "                                    Measurement.date > query_date).filter(\n",
        "                                    Measurement.station == most_active_station_id).statement\n",
        "\n",
        "# Use Pandas read_sql_query to load a query statement directly into the DataFrame\n",
        "temperature_observation = pd.read_sql_query(tobs_12_months, session.bind).set_index('date', drop=True)\n",
        "\n",
        "# Drop the NAN values\n",
        "temperature_observation_clean = temperature_observation.loc[temperature_observation['tobs'].isnull()==False]\n",
        "\n",
        "temperature_observation_clean.describe()"
      ],
      "execution_count": 21,
      "outputs": [
        {
          "output_type": "execute_result",
          "data": {
            "text/html": [
              "<div>\n",
              "<style scoped>\n",
              "    .dataframe tbody tr th:only-of-type {\n",
              "        vertical-align: middle;\n",
              "    }\n",
              "\n",
              "    .dataframe tbody tr th {\n",
              "        vertical-align: top;\n",
              "    }\n",
              "\n",
              "    .dataframe thead th {\n",
              "        text-align: right;\n",
              "    }\n",
              "</style>\n",
              "<table border=\"1\" class=\"dataframe\">\n",
              "  <thead>\n",
              "    <tr style=\"text-align: right;\">\n",
              "      <th></th>\n",
              "      <th>tobs</th>\n",
              "    </tr>\n",
              "  </thead>\n",
              "  <tbody>\n",
              "    <tr>\n",
              "      <th>count</th>\n",
              "      <td>351.000000</td>\n",
              "    </tr>\n",
              "    <tr>\n",
              "      <th>mean</th>\n",
              "      <td>73.096866</td>\n",
              "    </tr>\n",
              "    <tr>\n",
              "      <th>std</th>\n",
              "      <td>4.735491</td>\n",
              "    </tr>\n",
              "    <tr>\n",
              "      <th>min</th>\n",
              "      <td>59.000000</td>\n",
              "    </tr>\n",
              "    <tr>\n",
              "      <th>25%</th>\n",
              "      <td>70.000000</td>\n",
              "    </tr>\n",
              "    <tr>\n",
              "      <th>50%</th>\n",
              "      <td>74.000000</td>\n",
              "    </tr>\n",
              "    <tr>\n",
              "      <th>75%</th>\n",
              "      <td>77.000000</td>\n",
              "    </tr>\n",
              "    <tr>\n",
              "      <th>max</th>\n",
              "      <td>83.000000</td>\n",
              "    </tr>\n",
              "  </tbody>\n",
              "</table>\n",
              "</div>"
            ],
            "text/plain": [
              "             tobs\n",
              "count  351.000000\n",
              "mean    73.096866\n",
              "std      4.735491\n",
              "min     59.000000\n",
              "25%     70.000000\n",
              "50%     74.000000\n",
              "75%     77.000000\n",
              "max     83.000000"
            ]
          },
          "metadata": {
            "tags": []
          },
          "execution_count": 21
        }
      ]
    },
    {
      "cell_type": "code",
      "metadata": {
        "id": "lkghvyhXtd8w",
        "outputId": "4ce06e4c-689b-4af9-ce43-a4253315e114",
        "colab": {
          "base_uri": "https://localhost:8080/",
          "height": 451
        }
      },
      "source": [
        "# Plot the results as a histogram\n",
        "plt.figure()\n",
        "ax = temperature_observation_clean.plot.hist(figsize=(12,6),bins=12)\n",
        "ax.set_xlabel('Temperature')\n",
        "plt.tight_layout()\n",
        "plt.savefig('station-histogram.png')"
      ],
      "execution_count": 22,
      "outputs": [
        {
          "output_type": "display_data",
          "data": {
            "text/plain": [
              "<Figure size 432x288 with 0 Axes>"
            ]
          },
          "metadata": {
            "tags": []
          }
        },
        {
          "output_type": "display_data",
          "data": {
            "image/png": "[encoded data removed]",
            "text/plain": [
              "<Figure size 864x432 with 1 Axes>"
            ]
          },
          "metadata": {
            "tags": []
          }
        }
      ]
    },
    {
      "cell_type": "markdown",
      "metadata": {
        "id": "3ND6jTEqtd82"
      },
      "source": [
        "## Bonus Challenge Assignment"
      ]
    },
    {
      "cell_type": "markdown",
      "metadata": {
        "id": "lucf_6aHO5O5"
      },
      "source": [
        "\n",
        "Temperature Analysis I"
      ]
    },
    {
      "cell_type": "code",
      "metadata": {
        "id": "w7HHjNaIO9At"
      },
      "source": [
        "# Hawaii is reputed to enjoy mild weather all year. Is there a meaningful difference between the temperature in, for example, June and December?\n",
        "\n",
        "# You may either use SQLAlchemy or pandas's read_csv() to perform this portion.\n",
        "\n",
        "# Identify the average temperature in June at all stations across all available years in the dataset. \n",
        "# Do the same for December temperature.\n",
        "\n",
        "# Use the t-test to determine whether the difference in the means, if any, is statistically significant. \n",
        "# Will you use a paired t-test, or an unpaired t-test? Why?"
      ],
      "execution_count": 23,
      "outputs": []
    },
    {
      "cell_type": "markdown",
      "metadata": {
        "id": "Q4BpFDheOcVe"
      },
      "source": [
        "\n",
        "Temperature Analysis II"
      ]
    },
    {
      "cell_type": "code",
      "metadata": {
        "id": "ZgIT2gSFtd84",
        "outputId": "386431b2-7108-4900-d763-8110e5e4fdf5",
        "colab": {
          "base_uri": "https://localhost:8080/",
          "height": 35
        }
      },
      "source": [
        "# This function called `calc_temps` will accept start date and end date in the format '%Y-%m-%d' \n",
        "# and return the minimum, average, and maximum temperatures for that range of dates\n",
        "def calc_temps(start_date, end_date):\n",
        "    \"\"\"TMIN, TAVG, and TMAX for a list of dates.\n",
        "    \n",
        "    Args:\n",
        "        start_date (string): A date string in the format %Y-%m-%d\n",
        "        end_date (string): A date string in the format %Y-%m-%d\n",
        "        \n",
        "    Returns:\n",
        "        TMIN, TAVE, and TMAX\n",
        "    \"\"\"\n",
        "    \n",
        "    return session.query(func.min(Measurement.tobs), func.avg(Measurement.tobs), func.max(Measurement.tobs)).\\\n",
        "        filter(Measurement.date >= start_date).filter(Measurement.date <= end_date).all()\n",
        "\n",
        "# function usage example\n",
        "print(calc_temps(start_date, end_date))"
      ],
      "execution_count": 24,
      "outputs": [
        {
          "output_type": "stream",
          "text": [
            "[(61.0, 68.76470588235294, 75.0)]\n"
          ],
          "name": "stdout"
        }
      ]
    },
    {
      "cell_type": "code",
      "metadata": {
        "id": "OFRkh82Otd89",
        "outputId": "226ed7f0-dc57-4b65-c804-04e8ef2dc532",
        "colab": {
          "base_uri": "https://localhost:8080/",
          "height": 35
        }
      },
      "source": [
        "# Use your previous function `calc_temps` to calculate the tmin, tavg, and tmax \n",
        "# for your trip using the previous year's data for those same dates.\n",
        "temp_calc = calc_temps(start_date, end_date)\n",
        "print(temp_calc)"
      ],
      "execution_count": 25,
      "outputs": [
        {
          "output_type": "stream",
          "text": [
            "[(61.0, 68.76470588235294, 75.0)]\n"
          ],
          "name": "stdout"
        }
      ]
    },
    {
      "cell_type": "code",
      "metadata": {
        "id": "jnaAKDQXtd9B",
        "outputId": "07e5eb57-4227-479b-e9bd-cb848508888b",
        "colab": {
          "base_uri": "https://localhost:8080/",
          "height": 294
        }
      },
      "source": [
        "# Plot the results from your previous query as a bar chart. \n",
        "# Use \"Trip Avg Temp\" as your Title\n",
        "# Use the average temperature for the y value\n",
        "# Use the peak-to-peak (tmax-tmin) value as the y error bar (yerr)\n",
        "x =[1] \n",
        "y =[temp_calc[0][1]] \n",
        "\n",
        "# creating error \n",
        "y_errormin =[temp_calc[0][1]-temp_calc[0][0]] \n",
        "y_errormax =[temp_calc[0][2]-temp_calc[0][1]] \n",
        "x_error = 0\n",
        "y_error =[y_errormin, y_errormax] \n",
        "\n",
        "\n",
        "# ploting graph \n",
        "plt.bar(x, y, color='orange', alpha=.5, width=0.5) \n",
        "plt.errorbar(x, y, yerr = y_error, xerr = x_error, fmt ='k')\n",
        "plt.xticks(x, (''))\n",
        "plt.ylim([0, 100])\n",
        "plt.xlim([0, 2])\n",
        "plt.ylabel(\"Temp (F)\")\n",
        "plt.title(\"Trip Avg Temp\")\n",
        "plt.grid('--',alpha=.1)"
      ],
      "execution_count": 26,
      "outputs": [
        {
          "output_type": "display_data",
          "data": {
            "image/png": "[encoded data removed]",
            "text/plain": [
              "<Figure size 432x288 with 1 Axes>"
            ]
          },
          "metadata": {
            "tags": []
          }
        }
      ]
    },
    {
      "cell_type": "markdown",
      "metadata": {
        "id": "ZAFA1GqHOtMG"
      },
      "source": [
        "\n",
        "Daily Rainfall Average"
      ]
    },
    {
      "cell_type": "code",
      "metadata": {
        "id": "6YMqbMaAtd9F"
      },
      "source": [
        "# Calculate the total amount of rainfall per weather station for your trip dates using the previous year's matching dates.\n",
        "# Sort this in descending order by precipitation amount and list the station, name, latitude, longitude, and elevation\n",
        "\n"
      ],
      "execution_count": 27,
      "outputs": []
    },
    {
      "cell_type": "code",
      "metadata": {
        "id": "WHtPxmmNtd9J",
        "outputId": "d2c3ffe2-ab40-46c8-deca-fb6b4f672eea",
        "colab": {
          "base_uri": "https://localhost:8080/",
          "height": 35
        }
      },
      "source": [
        "# Create a query that will calculate the daily normals \n",
        "# (i.e. the averages for tmin, tmax, and tavg for all historic data matching a specific month and day)\n",
        "\n",
        "def daily_normals(date):\n",
        "    \"\"\"Daily Normals.\n",
        "    \n",
        "    Args:\n",
        "        date (str): A date string in the format '%m-%d'\n",
        "        \n",
        "    Returns:\n",
        "        A list of tuples containing the daily normals, tmin, tavg, and tmax\n",
        "    \n",
        "    \"\"\"\n",
        "    \n",
        "    sel = [func.min(Measurement.tobs), func.avg(Measurement.tobs), func.max(Measurement.tobs)]\n",
        "    return session.query(*sel).filter(func.strftime(\"%m-%d\", Measurement.date) == date).all()\n",
        "    \n",
        "daily_normals(\"01-01\")"
      ],
      "execution_count": 28,
      "outputs": [
        {
          "output_type": "execute_result",
          "data": {
            "text/plain": [
              "[(62.0, 69.15384615384616, 77.0)]"
            ]
          },
          "metadata": {
            "tags": []
          },
          "execution_count": 28
        }
      ]
    },
    {
      "cell_type": "code",
      "metadata": {
        "id": "vsIn5KzUtd9N"
      },
      "source": [
        "# calculate the daily normals for your trip\n",
        "# push each tuple of calculations into a list called `normals`\n",
        "\n",
        "# Set the start and end date of the trip\n",
        "start_date\n",
        "end_date\n",
        "# Use the start and end date to create a range of dates\n",
        "vacation_dates = pd.date_range(pd.to_datetime(start_date), pd.to_datetime(end_date))\n",
        "\n",
        "# Stip off the year and save a list of %m-%d strings\n",
        "list_days= vacation_dates.strftime('%m-%d')\n",
        "\n",
        "# Loop through the list of %m-%d strings and calculate the normals for each date\n",
        "normals = []\n",
        "for day in list_days:\n",
        "  normals.append(daily_normals(day)[0])\n",
        "\n",
        "dailynormals = pd.DataFrame(normals, columns =['tmin', 'tavg','tmax'])"
      ],
      "execution_count": 29,
      "outputs": []
    },
    {
      "cell_type": "code",
      "metadata": {
        "id": "PDK6raaXtd9Q",
        "outputId": "90d20413-f3e0-49c6-bc32-f1b20d5eed0b",
        "colab": {
          "base_uri": "https://localhost:8080/",
          "height": 520
        }
      },
      "source": [
        "# Load the previous query results into a Pandas DataFrame and add the `trip_dates` range as the `date` index\n",
        "dailynormals['Date']=vacation_dates\n",
        "dailynormals.set_index('Date', inplace=True)\n",
        "dailynormals"
      ],
      "execution_count": 30,
      "outputs": [
        {
          "output_type": "execute_result",
          "data": {
            "text/html": [
              "<div>\n",
              "<style scoped>\n",
              "    .dataframe tbody tr th:only-of-type {\n",
              "        vertical-align: middle;\n",
              "    }\n",
              "\n",
              "    .dataframe tbody tr th {\n",
              "        vertical-align: top;\n",
              "    }\n",
              "\n",
              "    .dataframe thead th {\n",
              "        text-align: right;\n",
              "    }\n",
              "</style>\n",
              "<table border=\"1\" class=\"dataframe\">\n",
              "  <thead>\n",
              "    <tr style=\"text-align: right;\">\n",
              "      <th></th>\n",
              "      <th>tmin</th>\n",
              "      <th>tavg</th>\n",
              "      <th>tmax</th>\n",
              "    </tr>\n",
              "    <tr>\n",
              "      <th>Date</th>\n",
              "      <th></th>\n",
              "      <th></th>\n",
              "      <th></th>\n",
              "    </tr>\n",
              "  </thead>\n",
              "  <tbody>\n",
              "    <tr>\n",
              "      <th>2012-03-01</th>\n",
              "      <td>64.0</td>\n",
              "      <td>70.032787</td>\n",
              "      <td>76.0</td>\n",
              "    </tr>\n",
              "    <tr>\n",
              "      <th>2012-03-02</th>\n",
              "      <td>61.0</td>\n",
              "      <td>70.366667</td>\n",
              "      <td>78.0</td>\n",
              "    </tr>\n",
              "    <tr>\n",
              "      <th>2012-03-03</th>\n",
              "      <td>60.0</td>\n",
              "      <td>70.068966</td>\n",
              "      <td>78.0</td>\n",
              "    </tr>\n",
              "    <tr>\n",
              "      <th>2012-03-04</th>\n",
              "      <td>57.0</td>\n",
              "      <td>69.272727</td>\n",
              "      <td>77.0</td>\n",
              "    </tr>\n",
              "    <tr>\n",
              "      <th>2012-03-05</th>\n",
              "      <td>60.0</td>\n",
              "      <td>67.890909</td>\n",
              "      <td>76.0</td>\n",
              "    </tr>\n",
              "    <tr>\n",
              "      <th>2012-03-06</th>\n",
              "      <td>60.0</td>\n",
              "      <td>69.203390</td>\n",
              "      <td>76.0</td>\n",
              "    </tr>\n",
              "    <tr>\n",
              "      <th>2012-03-07</th>\n",
              "      <td>60.0</td>\n",
              "      <td>69.172414</td>\n",
              "      <td>78.0</td>\n",
              "    </tr>\n",
              "    <tr>\n",
              "      <th>2012-03-08</th>\n",
              "      <td>59.0</td>\n",
              "      <td>68.724138</td>\n",
              "      <td>78.0</td>\n",
              "    </tr>\n",
              "    <tr>\n",
              "      <th>2012-03-09</th>\n",
              "      <td>57.0</td>\n",
              "      <td>68.561404</td>\n",
              "      <td>75.0</td>\n",
              "    </tr>\n",
              "    <tr>\n",
              "      <th>2012-03-10</th>\n",
              "      <td>57.0</td>\n",
              "      <td>69.122807</td>\n",
              "      <td>75.0</td>\n",
              "    </tr>\n",
              "    <tr>\n",
              "      <th>2012-03-11</th>\n",
              "      <td>60.0</td>\n",
              "      <td>69.892857</td>\n",
              "      <td>82.0</td>\n",
              "    </tr>\n",
              "    <tr>\n",
              "      <th>2012-03-12</th>\n",
              "      <td>62.0</td>\n",
              "      <td>69.888889</td>\n",
              "      <td>80.0</td>\n",
              "    </tr>\n",
              "    <tr>\n",
              "      <th>2012-03-13</th>\n",
              "      <td>56.0</td>\n",
              "      <td>69.296296</td>\n",
              "      <td>77.0</td>\n",
              "    </tr>\n",
              "    <tr>\n",
              "      <th>2012-03-14</th>\n",
              "      <td>62.0</td>\n",
              "      <td>70.327586</td>\n",
              "      <td>77.0</td>\n",
              "    </tr>\n",
              "  </tbody>\n",
              "</table>\n",
              "</div>"
            ],
            "text/plain": [
              "            tmin       tavg  tmax\n",
              "Date                             \n",
              "2012-03-01  64.0  70.032787  76.0\n",
              "2012-03-02  61.0  70.366667  78.0\n",
              "2012-03-03  60.0  70.068966  78.0\n",
              "2012-03-04  57.0  69.272727  77.0\n",
              "2012-03-05  60.0  67.890909  76.0\n",
              "2012-03-06  60.0  69.203390  76.0\n",
              "2012-03-07  60.0  69.172414  78.0\n",
              "2012-03-08  59.0  68.724138  78.0\n",
              "2012-03-09  57.0  68.561404  75.0\n",
              "2012-03-10  57.0  69.122807  75.0\n",
              "2012-03-11  60.0  69.892857  82.0\n",
              "2012-03-12  62.0  69.888889  80.0\n",
              "2012-03-13  56.0  69.296296  77.0\n",
              "2012-03-14  62.0  70.327586  77.0"
            ]
          },
          "metadata": {
            "tags": []
          },
          "execution_count": 30
        }
      ]
    },
    {
      "cell_type": "code",
      "metadata": {
        "id": "BdWz0kfEtd9T",
        "outputId": "22975966-f834-4448-d8ef-253b83a32dda",
        "colab": {
          "base_uri": "https://localhost:8080/",
          "height": 451
        }
      },
      "source": [
        "# Plot the daily normals as an area plot with `stacked=False`\n",
        "plt.figure()\n",
        "ax = dailynormals.plot.area(figsize=(12,6),stacked=False)\n",
        "ax.set_ylabel('Temperature')\n",
        "ax.set_xlabel('Date')\n",
        "plt.tight_layout()\n",
        "plt.grid()\n",
        "plt.savefig('daily_normals.png')\n",
        "plt.show()"
      ],
      "execution_count": 31,
      "outputs": [
        {
          "output_type": "display_data",
          "data": {
            "text/plain": [
              "<Figure size 432x288 with 0 Axes>"
            ]
          },
          "metadata": {
            "tags": []
          }
        },
        {
          "output_type": "display_data",
          "data": {
            "image/png": "[encoded data removed]",
            "text/plain": [
              "<Figure size 864x432 with 1 Axes>"
            ]
          },
          "metadata": {
            "tags": []
          }
        }
      ]
    }
  ]
}